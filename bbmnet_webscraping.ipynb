{
 "cells": [
  {
   "cell_type": "code",
   "execution_count": 1,
   "id": "3a713c7a",
   "metadata": {},
   "outputs": [],
   "source": [
    "import requests\n",
    "from bs4 import BeautifulSoup"
   ]
  },
  {
   "cell_type": "code",
   "execution_count": 2,
   "id": "a115810a",
   "metadata": {},
   "outputs": [
    {
     "name": "stderr",
     "output_type": "stream",
     "text": [
      "[WDM] - Downloading: 100%|██████████| 6.79M/6.79M [00:00<00:00, 16.4MB/s]\n"
     ]
    }
   ],
   "source": [
    "from selenium import webdriver\n",
    "from webdriver_manager.chrome import ChromeDriverManager\n",
    "from selenium.webdriver.chrome.service import Service\n",
    "from selenium.webdriver.common.by import By\n",
    "servico = Service(ChromeDriverManager().install())\n",
    "navegador=webdriver.Chrome(service=servico)\n",
    "from time import sleep"
   ]
  },
  {
   "cell_type": "code",
   "execution_count": 3,
   "id": "d7839272",
   "metadata": {},
   "outputs": [],
   "source": [
    "navegador.get('https://www3.bbmnet.com.br/NovoPortalLogin/Login.aspx')"
   ]
  },
  {
   "cell_type": "code",
   "execution_count": 4,
   "id": "4667ac4c",
   "metadata": {},
   "outputs": [],
   "source": [
    "usuario = navegador.find_element(By.NAME,\"txtUsuario\")\n",
    "senha = navegador.find_element(By.NAME,\"txtSenha\")\n",
    "\n",
    "usuario.send_keys(\"microtecnica\")\n",
    "senha.send_keys(\"microba23\")"
   ]
  },
  {
   "cell_type": "code",
   "execution_count": 5,
   "id": "856a3ece",
   "metadata": {},
   "outputs": [],
   "source": [
    "btnLogin = navegador.find_element(By.XPATH,'//*[@id=\"ImgBtnEntrar\"]')\n",
    "btnLogin.click()"
   ]
  },
  {
   "cell_type": "code",
   "execution_count": 6,
   "id": "bb107bdd",
   "metadata": {},
   "outputs": [],
   "source": [
    "btnLicitacao = navegador.find_element(By.XPATH,'//*[@id=\"lst\"]/option')\n",
    "btnLicitacao.click()"
   ]
  },
  {
   "cell_type": "code",
   "execution_count": 7,
   "id": "d60f560d",
   "metadata": {},
   "outputs": [],
   "source": [
    "navegador.get('https://www2.bbmnet.com.br/BBMNET/licitacao/DetalharEdital.aspx?chaveEdital=63618&AdicionarItemVisualizar=true')"
   ]
  },
  {
   "cell_type": "code",
   "execution_count": 8,
   "id": "03a52369",
   "metadata": {},
   "outputs": [],
   "source": [
    "btnEntrarPregao = navegador.find_element(By.XPATH,'//*[@id=\"ctl00_MasterCPH_grdLotes_ctl02_imbEntrarSalaNegociacao\"]')\n",
    "btnEntrarPregao.click()"
   ]
  },
  {
   "cell_type": "code",
   "execution_count": 9,
   "id": "acb85084",
   "metadata": {
    "scrolled": false
   },
   "outputs": [],
   "source": [
    "navegador.get('https://www2.bbmnet.com.br/BBMNET/Negociacao/SalaNegociacao.aspx?detalhe=true')\n",
    "paginaChat = BeautifulSoup(navegador.page_source,\"html.parser\")\n",
    "#print(paginaChat)"
   ]
  },
  {
   "cell_type": "code",
   "execution_count": 10,
   "id": "117e11de",
   "metadata": {},
   "outputs": [
    {
     "name": "stdout",
     "output_type": "stream",
     "text": [
      "<span class=\"txtAzul\" style=\"text-align: left; font-size:12px; font-weight:800;\">\n",
      "                                    ROBERTO MARCIO NARDES MENDES\n",
      "                                </span>\n"
     ]
    }
   ],
   "source": [
    "chat = paginaChat.find(\"span\", {\"class\": \"txtAzul\"})\n",
    "print(chat)"
   ]
  },
  {
   "cell_type": "code",
   "execution_count": 12,
   "id": "1f93676e",
   "metadata": {},
   "outputs": [
    {
     "name": "stdout",
     "output_type": "stream",
     "text": [
      "<div class=\"log\" id=\"txtLog\" style=\"width:500px;\">\n",
      "</div>\n"
     ]
    }
   ],
   "source": [
    "chatMessages = paginaChat.find(\"div\", {\"id\": \"txtLog\"})\n",
    "print(chatMessages)"
   ]
  },
  {
   "cell_type": "code",
   "execution_count": null,
   "id": "2fbe1d0f",
   "metadata": {},
   "outputs": [],
   "source": []
  }
 ],
 "metadata": {
  "kernelspec": {
   "display_name": "Python 3 (ipykernel)",
   "language": "python",
   "name": "python3"
  },
  "language_info": {
   "codemirror_mode": {
    "name": "ipython",
    "version": 3
   },
   "file_extension": ".py",
   "mimetype": "text/x-python",
   "name": "python",
   "nbconvert_exporter": "python",
   "pygments_lexer": "ipython3",
   "version": "3.9.13"
  }
 },
 "nbformat": 4,
 "nbformat_minor": 5
}
